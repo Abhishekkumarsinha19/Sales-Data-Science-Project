{
 "cells": [
  {
   "cell_type": "code",
   "execution_count": 1,
   "id": "494e1644-af18-4596-a97e-7b3ab73dc471",
   "metadata": {},
   "outputs": [],
   "source": [
    "import numpy as np\n",
    "import pandas as pd\n",
    "from scipy import stats\n",
    "import matplotlib.pyplot as plt\n",
    "import seaborn as sns"
   ]
  },
  {
   "cell_type": "code",
   "execution_count": 2,
   "id": "42402783-e36c-4e7d-95be-fa9b1f3e61d1",
   "metadata": {},
   "outputs": [],
   "source": [
    "df=pd.read_csv('AusApparalSales4thQrt2020.csv')"
   ]
  },
  {
   "cell_type": "code",
   "execution_count": 3,
   "id": "69a7a386-eefd-4e86-a227-8ac8c9c3a08e",
   "metadata": {},
   "outputs": [
    {
     "data": {
      "text/html": [
       "<div>\n",
       "<style scoped>\n",
       "    .dataframe tbody tr th:only-of-type {\n",
       "        vertical-align: middle;\n",
       "    }\n",
       "\n",
       "    .dataframe tbody tr th {\n",
       "        vertical-align: top;\n",
       "    }\n",
       "\n",
       "    .dataframe thead th {\n",
       "        text-align: right;\n",
       "    }\n",
       "</style>\n",
       "<table border=\"1\" class=\"dataframe\">\n",
       "  <thead>\n",
       "    <tr style=\"text-align: right;\">\n",
       "      <th></th>\n",
       "      <th>Date</th>\n",
       "      <th>Time</th>\n",
       "      <th>State</th>\n",
       "      <th>Group</th>\n",
       "      <th>Unit</th>\n",
       "      <th>Sales</th>\n",
       "    </tr>\n",
       "  </thead>\n",
       "  <tbody>\n",
       "    <tr>\n",
       "      <th>0</th>\n",
       "      <td>1-Oct-2020</td>\n",
       "      <td>Morning</td>\n",
       "      <td>WA</td>\n",
       "      <td>Kids</td>\n",
       "      <td>8</td>\n",
       "      <td>20000</td>\n",
       "    </tr>\n",
       "    <tr>\n",
       "      <th>1</th>\n",
       "      <td>1-Oct-2020</td>\n",
       "      <td>Morning</td>\n",
       "      <td>WA</td>\n",
       "      <td>Men</td>\n",
       "      <td>8</td>\n",
       "      <td>20000</td>\n",
       "    </tr>\n",
       "    <tr>\n",
       "      <th>2</th>\n",
       "      <td>1-Oct-2020</td>\n",
       "      <td>Morning</td>\n",
       "      <td>WA</td>\n",
       "      <td>Women</td>\n",
       "      <td>4</td>\n",
       "      <td>10000</td>\n",
       "    </tr>\n",
       "    <tr>\n",
       "      <th>3</th>\n",
       "      <td>1-Oct-2020</td>\n",
       "      <td>Morning</td>\n",
       "      <td>WA</td>\n",
       "      <td>Seniors</td>\n",
       "      <td>15</td>\n",
       "      <td>37500</td>\n",
       "    </tr>\n",
       "    <tr>\n",
       "      <th>4</th>\n",
       "      <td>1-Oct-2020</td>\n",
       "      <td>Afternoon</td>\n",
       "      <td>WA</td>\n",
       "      <td>Kids</td>\n",
       "      <td>3</td>\n",
       "      <td>7500</td>\n",
       "    </tr>\n",
       "  </tbody>\n",
       "</table>\n",
       "</div>"
      ],
      "text/plain": [
       "         Date        Time State     Group  Unit  Sales\n",
       "0  1-Oct-2020     Morning    WA      Kids     8  20000\n",
       "1  1-Oct-2020     Morning    WA       Men     8  20000\n",
       "2  1-Oct-2020     Morning    WA     Women     4  10000\n",
       "3  1-Oct-2020     Morning    WA   Seniors    15  37500\n",
       "4  1-Oct-2020   Afternoon    WA      Kids     3   7500"
      ]
     },
     "execution_count": 3,
     "metadata": {},
     "output_type": "execute_result"
    }
   ],
   "source": [
    "df.head()"
   ]
  },
  {
   "cell_type": "code",
   "execution_count": 4,
   "id": "38c0c57d-d886-46bf-bad3-b2f2829242a8",
   "metadata": {},
   "outputs": [
    {
     "name": "stdout",
     "output_type": "stream",
     "text": [
      "Missing Data in Each Column:\n",
      " Date     0\n",
      "Time     0\n",
      "State    0\n",
      "Group    0\n",
      "Unit     0\n",
      "Sales    0\n",
      "dtype: int64\n"
     ]
    }
   ],
   "source": [
    "#Data Wrangling\n",
    "#a. Inspect the Data for Missing or Incorrect Entries\n",
    "# Check for missing values in the dataset\n",
    "missing_data = df.isna().sum()\n",
    "print(\"Missing Data in Each Column:\\n\", missing_data)"
   ]
  },
  {
   "cell_type": "code",
   "execution_count": 5,
   "id": "82ecde2d-aa66-46f2-8346-048fad87df2d",
   "metadata": {},
   "outputs": [
    {
     "name": "stdout",
     "output_type": "stream",
     "text": [
      "<class 'pandas.core.frame.DataFrame'>\n",
      "RangeIndex: 7560 entries, 0 to 7559\n",
      "Data columns (total 6 columns):\n",
      " #   Column  Non-Null Count  Dtype \n",
      "---  ------  --------------  ----- \n",
      " 0   Date    7560 non-null   object\n",
      " 1   Time    7560 non-null   object\n",
      " 2   State   7560 non-null   object\n",
      " 3   Group   7560 non-null   object\n",
      " 4   Unit    7560 non-null   int64 \n",
      " 5   Sales   7560 non-null   int64 \n",
      "dtypes: int64(2), object(4)\n",
      "memory usage: 354.5+ KB\n"
     ]
    }
   ],
   "source": [
    "df.info()"
   ]
  },
  {
   "cell_type": "code",
   "execution_count": 6,
   "id": "d058b87f-d53c-4471-901b-3117bc93b778",
   "metadata": {},
   "outputs": [
    {
     "name": "stdout",
     "output_type": "stream",
     "text": [
      "<class 'pandas.core.frame.DataFrame'>\n",
      "RangeIndex: 7560 entries, 0 to 7559\n",
      "Data columns (total 6 columns):\n",
      " #   Column  Non-Null Count  Dtype \n",
      "---  ------  --------------  ----- \n",
      " 0   Date    7560 non-null   object\n",
      " 1   Time    7560 non-null   object\n",
      " 2   State   7560 non-null   object\n",
      " 3   Group   7560 non-null   object\n",
      " 4   Unit    7560 non-null   int64 \n",
      " 5   Sales   7560 non-null   int64 \n",
      "dtypes: int64(2), object(4)\n",
      "memory usage: 354.5+ KB\n"
     ]
    }
   ],
   "source": [
    "#b. Handle Missing Data\n",
    "#Option 1: Drop rows with missing values\n",
    "df_cleaned = df.dropna()\n",
    "df_cleaned.info()"
   ]
  },
  {
   "cell_type": "code",
   "execution_count": 7,
   "id": "0ad70d46-6147-4a1f-957a-7f3c109af7f9",
   "metadata": {},
   "outputs": [],
   "source": [
    "from sklearn.preprocessing import MinMaxScaler"
   ]
  },
  {
   "cell_type": "code",
   "execution_count": 8,
   "id": "fb34f968-5ea8-4976-8528-ed086dead60e",
   "metadata": {},
   "outputs": [
    {
     "data": {
      "text/html": [
       "<div>\n",
       "<style scoped>\n",
       "    .dataframe tbody tr th:only-of-type {\n",
       "        vertical-align: middle;\n",
       "    }\n",
       "\n",
       "    .dataframe tbody tr th {\n",
       "        vertical-align: top;\n",
       "    }\n",
       "\n",
       "    .dataframe thead th {\n",
       "        text-align: right;\n",
       "    }\n",
       "</style>\n",
       "<table border=\"1\" class=\"dataframe\">\n",
       "  <thead>\n",
       "    <tr style=\"text-align: right;\">\n",
       "      <th></th>\n",
       "      <th>Date</th>\n",
       "      <th>Time</th>\n",
       "      <th>State</th>\n",
       "      <th>Group</th>\n",
       "      <th>Unit</th>\n",
       "      <th>Sales</th>\n",
       "    </tr>\n",
       "  </thead>\n",
       "  <tbody>\n",
       "    <tr>\n",
       "      <th>0</th>\n",
       "      <td>1-Oct-2020</td>\n",
       "      <td>Morning</td>\n",
       "      <td>WA</td>\n",
       "      <td>Kids</td>\n",
       "      <td>0.095238</td>\n",
       "      <td>0.095238</td>\n",
       "    </tr>\n",
       "    <tr>\n",
       "      <th>1</th>\n",
       "      <td>1-Oct-2020</td>\n",
       "      <td>Morning</td>\n",
       "      <td>WA</td>\n",
       "      <td>Men</td>\n",
       "      <td>0.095238</td>\n",
       "      <td>0.095238</td>\n",
       "    </tr>\n",
       "    <tr>\n",
       "      <th>2</th>\n",
       "      <td>1-Oct-2020</td>\n",
       "      <td>Morning</td>\n",
       "      <td>WA</td>\n",
       "      <td>Women</td>\n",
       "      <td>0.031746</td>\n",
       "      <td>0.031746</td>\n",
       "    </tr>\n",
       "    <tr>\n",
       "      <th>3</th>\n",
       "      <td>1-Oct-2020</td>\n",
       "      <td>Morning</td>\n",
       "      <td>WA</td>\n",
       "      <td>Seniors</td>\n",
       "      <td>0.206349</td>\n",
       "      <td>0.206349</td>\n",
       "    </tr>\n",
       "    <tr>\n",
       "      <th>4</th>\n",
       "      <td>1-Oct-2020</td>\n",
       "      <td>Afternoon</td>\n",
       "      <td>WA</td>\n",
       "      <td>Kids</td>\n",
       "      <td>0.015873</td>\n",
       "      <td>0.015873</td>\n",
       "    </tr>\n",
       "  </tbody>\n",
       "</table>\n",
       "</div>"
      ],
      "text/plain": [
       "         Date        Time State     Group      Unit     Sales\n",
       "0  1-Oct-2020     Morning    WA      Kids  0.095238  0.095238\n",
       "1  1-Oct-2020     Morning    WA       Men  0.095238  0.095238\n",
       "2  1-Oct-2020     Morning    WA     Women  0.031746  0.031746\n",
       "3  1-Oct-2020     Morning    WA   Seniors  0.206349  0.206349\n",
       "4  1-Oct-2020   Afternoon    WA      Kids  0.015873  0.015873"
      ]
     },
     "execution_count": 8,
     "metadata": {},
     "output_type": "execute_result"
    }
   ],
   "source": [
    "# Initialize the MinMaxScaler\n",
    "scaler = MinMaxScaler()\n",
    "\n",
    "# Apply normalization to the 'Sales' and 'Units' columns\n",
    "df[['Sales', 'Unit']] = scaler.fit_transform(df[['Sales', 'Unit']])\n",
    "\n",
    "# Display the normalized data\n",
    "df.head()"
   ]
  },
  {
   "cell_type": "code",
   "execution_count": 9,
   "id": "4e318b23-c75d-4d85-9834-2cb7eb8e6a62",
   "metadata": {},
   "outputs": [
    {
     "data": {
      "text/html": [
       "<div>\n",
       "<style scoped>\n",
       "    .dataframe tbody tr th:only-of-type {\n",
       "        vertical-align: middle;\n",
       "    }\n",
       "\n",
       "    .dataframe tbody tr th {\n",
       "        vertical-align: top;\n",
       "    }\n",
       "\n",
       "    .dataframe thead th {\n",
       "        text-align: right;\n",
       "    }\n",
       "</style>\n",
       "<table border=\"1\" class=\"dataframe\">\n",
       "  <thead>\n",
       "    <tr style=\"text-align: right;\">\n",
       "      <th></th>\n",
       "      <th>State</th>\n",
       "      <th>Sales</th>\n",
       "      <th>Unit</th>\n",
       "    </tr>\n",
       "  </thead>\n",
       "  <tbody>\n",
       "    <tr>\n",
       "      <th>0</th>\n",
       "      <td>NSW</td>\n",
       "      <td>441.714286</td>\n",
       "      <td>441.714286</td>\n",
       "    </tr>\n",
       "    <tr>\n",
       "      <th>1</th>\n",
       "      <td>NT</td>\n",
       "      <td>109.079365</td>\n",
       "      <td>109.079365</td>\n",
       "    </tr>\n",
       "    <tr>\n",
       "      <th>2</th>\n",
       "      <td>QLD</td>\n",
       "      <td>177.888889</td>\n",
       "      <td>177.888889</td>\n",
       "    </tr>\n",
       "    <tr>\n",
       "      <th>3</th>\n",
       "      <td>SA</td>\n",
       "      <td>339.412698</td>\n",
       "      <td>339.412698</td>\n",
       "    </tr>\n",
       "    <tr>\n",
       "      <th>4</th>\n",
       "      <td>TAS</td>\n",
       "      <td>110.222222</td>\n",
       "      <td>110.222222</td>\n",
       "    </tr>\n",
       "  </tbody>\n",
       "</table>\n",
       "</div>"
      ],
      "text/plain": [
       "  State       Sales        Unit\n",
       "0   NSW  441.714286  441.714286\n",
       "1    NT  109.079365  109.079365\n",
       "2   QLD  177.888889  177.888889\n",
       "3    SA  339.412698  339.412698\n",
       "4   TAS  110.222222  110.222222"
      ]
     },
     "execution_count": 9,
     "metadata": {},
     "output_type": "execute_result"
    }
   ],
   "source": [
    "#d. Group Data Using GroupBy()\n",
    "# Group by 'State' and aggregate the sum of 'Sales' and 'Units'\n",
    "grouped_data = df.groupby('State').agg({'Sales': 'sum', 'Unit': 'sum'}).reset_index()\n",
    "\n",
    "# Display the grouped data\n",
    "grouped_data.head()"
   ]
  },
  {
   "cell_type": "code",
   "execution_count": 10,
   "id": "fa5504b3-4701-4d11-b2db-426badb5e0c9",
   "metadata": {},
   "outputs": [],
   "source": [
    "#Step 4: Data Analysis\n",
    "#a. Descriptive Statistical Analysis\n",
    "mean_sales = np.mean(df['Sales'])\n",
    "median_sales = np.median(df['Sales'])\n",
    "mode_sales = df['Sales'].mode()[0]\n",
    "std_dev_sales = np.std(df['Sales'])"
   ]
  },
  {
   "cell_type": "code",
   "execution_count": 11,
   "id": "1d7b847b-0d88-46bf-ad5b-71a6e5f87bf6",
   "metadata": {},
   "outputs": [
    {
     "name": "stdout",
     "output_type": "stream",
     "text": [
      "Sales - Mean: 0.25405433778449654, Median: 0.1904761904761905, Mode: 0.1111111111111111, Std Dev: 0.20477062669823143\n"
     ]
    }
   ],
   "source": [
    "print(f\"Sales - Mean: {mean_sales}, Median: {median_sales}, Mode: {mode_sales}, Std Dev: {std_dev_sales}\")"
   ]
  },
  {
   "cell_type": "code",
   "execution_count": 12,
   "id": "0d2e9625-dafb-461e-ae8e-7e6c1e8ab563",
   "metadata": {},
   "outputs": [],
   "source": [
    "mean_units = np.mean(df['Unit'])\n",
    "median_units = np.median(df['Unit'])\n",
    "mode_units = df['Unit'].mode()[0]\n",
    "std_dev_units = np.std(df['Unit'])"
   ]
  },
  {
   "cell_type": "code",
   "execution_count": 13,
   "id": "9e288525-a3ad-4212-9970-edfee8f6f6a3",
   "metadata": {},
   "outputs": [
    {
     "name": "stdout",
     "output_type": "stream",
     "text": [
      "Units - Mean: 0.2540543377844965, Median: 0.19047619047619047, Mode: 0.1111111111111111, Std Dev: 0.2047706266982314\n"
     ]
    }
   ],
   "source": [
    "print(f\"Units - Mean: {mean_units}, Median: {median_units}, Mode: {mode_units}, Std Dev: {std_dev_units}\")"
   ]
  },
  {
   "cell_type": "code",
   "execution_count": 14,
   "id": "83a5651c-e7a6-440e-b82f-39f2b6590118",
   "metadata": {},
   "outputs": [
    {
     "name": "stdout",
     "output_type": "stream",
     "text": [
      "Highest Sales Group:  Men\n"
     ]
    }
   ],
   "source": [
    "#b. Identify Highest and Lowest Sales Groups\n",
    "highest_sales_group = df.groupby('Group')['Sales'].sum().idxmax()\n",
    "print(f\"Highest Sales Group: {highest_sales_group}\")"
   ]
  },
  {
   "cell_type": "code",
   "execution_count": 15,
   "id": "b8497caf-ce94-4648-9dbb-82c29560ba01",
   "metadata": {},
   "outputs": [
    {
     "name": "stdout",
     "output_type": "stream",
     "text": [
      "Lowest Sales Group:  Seniors\n"
     ]
    }
   ],
   "source": [
    "lowest_sales_group = df.groupby('Group')['Sales'].sum().idxmin()\n",
    "print(f\"Lowest Sales Group: {lowest_sales_group}\")"
   ]
  },
  {
   "cell_type": "code",
   "execution_count": 16,
   "id": "3ddc9c7c-7279-4deb-823e-e1fd6d589800",
   "metadata": {},
   "outputs": [],
   "source": [
    "#c. Generate Weekly, Monthly, and Quarterly Reports\n",
    "df['Date'] = pd.to_datetime(df['Date'])"
   ]
  },
  {
   "cell_type": "code",
   "execution_count": 17,
   "id": "0008c04e-9b93-4c04-82a0-5f1aa10f25e6",
   "metadata": {},
   "outputs": [],
   "source": [
    "# Create additional columns for Week, Month, and Quarter\n",
    "df['Week'] = df['Date'].dt.isocalendar().week\n",
    "df['Month'] = df['Date'].dt.month\n",
    "df['Quarter'] = df['Date'].dt.quarter"
   ]
  },
  {
   "cell_type": "code",
   "execution_count": 18,
   "id": "1faa6e18-e827-4c65-aa64-2ca7b8566c43",
   "metadata": {},
   "outputs": [],
   "source": [
    "# Generate reports\n",
    "weekly_report = df.groupby('Week').agg({'Sales': 'sum', 'Unit': 'sum'})\n",
    "monthly_report = df.groupby('Month').agg({'Sales': 'sum', 'Unit': 'sum'})\n",
    "quarterly_report = df.groupby('Quarter').agg({'Sales': 'sum', 'Unit': 'sum'})"
   ]
  },
  {
   "cell_type": "code",
   "execution_count": 19,
   "id": "fe40f4c1-a18a-4921-98de-fa488ed92053",
   "metadata": {},
   "outputs": [
    {
     "name": "stdout",
     "output_type": "stream",
     "text": [
      "Weekly Report:\n",
      "            Sales        Unit\n",
      "Week                        \n",
      "40     84.857143   84.857143\n",
      "41    152.777778  152.777778\n",
      "42    150.476190  150.476190\n",
      "43    151.587302  151.587302\n",
      "44    122.460317  122.460317\n",
      "45    113.809524  113.809524\n",
      "46    115.761905  115.761905\n",
      "47    115.380952  115.380952\n",
      "48    117.698413  117.698413\n",
      "49    169.412698  169.412698\n",
      "50    181.492063  181.492063\n",
      "51    182.317460  182.317460\n",
      "52    183.047619  183.047619\n",
      "53     79.571429   79.571429\n"
     ]
    }
   ],
   "source": [
    "print(\"Weekly Report:\\n\", weekly_report)"
   ]
  },
  {
   "cell_type": "code",
   "execution_count": 20,
   "id": "c761484d-482c-4a53-afc9-9ead59aeeebd",
   "metadata": {},
   "outputs": [
    {
     "name": "stdout",
     "output_type": "stream",
     "text": [
      "Monthly Report:\n",
      "             Sales        Unit\n",
      "Month                        \n",
      "10     645.650794  645.650794\n",
      "11     495.761905  495.761905\n",
      "12     779.238095  779.238095\n"
     ]
    }
   ],
   "source": [
    "print(\"Monthly Report:\\n\", monthly_report)"
   ]
  },
  {
   "cell_type": "code",
   "execution_count": 21,
   "id": "27b4499f-4750-4a86-bde5-e26e7765ecff",
   "metadata": {},
   "outputs": [
    {
     "name": "stdout",
     "output_type": "stream",
     "text": [
      "Quarterly Report:\n",
      "                Sales         Unit\n",
      "Quarter                          \n",
      "4        1920.650794  1920.650794\n"
     ]
    }
   ],
   "source": [
    "print(\"Quarterly Report:\\n\", quarterly_report)"
   ]
  },
  {
   "cell_type": "code",
   "execution_count": 22,
   "id": "9ccd4b62-062a-4329-9385-8c543d79ba21",
   "metadata": {},
   "outputs": [
    {
     "data": {
      "image/png": "[encoded data removed]",
      "text/plain": [
       "<Figure size 864x432 with 1 Axes>"
      ]
     },
     "metadata": {
      "needs_background": "light"
     },
     "output_type": "display_data"
    }
   ],
   "source": [
    "#Step 5: Data Visualization\n",
    "#a. Construct Dashboard Visualizations\n",
    "#1 State-wise Sales Analysis by Group\n",
    "plt.figure(figsize=(12, 6))\n",
    "sns.barplot(x='State', y='Sales', hue='Group', data=df)\n",
    "plt.title('State-wise Sales Analysis by Group')\n",
    "plt.xticks(rotation=45)\n",
    "plt.show()\n"
   ]
  },
  {
   "cell_type": "code",
   "execution_count": 23,
   "id": "20fe8624-f66f-474e-bc18-a6230fa1db29",
   "metadata": {},
   "outputs": [
    {
     "data": {
      "image/png": "[encoded data removed]",
      "text/plain": [
       "<Figure size 864x432 with 1 Axes>"
      ]
     },
     "metadata": {
      "needs_background": "light"
     },
     "output_type": "display_data"
    }
   ],
   "source": [
    "#2 Group-wise Sales Analysis\n",
    "plt.figure(figsize=(12, 6))\n",
    "sns.boxplot(x='Group', y='Sales', data=df)\n",
    "plt.title('Group-wise Sales Analysis')\n",
    "plt.show()"
   ]
  },
  {
   "cell_type": "code",
   "execution_count": 24,
   "id": "091f139c-18b0-4388-8e7d-34a1620ad805",
   "metadata": {},
   "outputs": [
    {
     "data": {
      "image/png": "[encoded data removed]",
      "text/plain": [
       "<Figure size 864x432 with 1 Axes>"
      ]
     },
     "metadata": {
      "needs_background": "light"
     },
     "output_type": "display_data"
    }
   ],
   "source": [
    "#Time-of-the-Day Sales Analysis:\n",
    "df['Hour'] = df['Date'].dt.hour\n",
    "plt.figure(figsize=(12, 6))\n",
    "sns.lineplot(x='Hour', y='Sales', data=df)\n",
    "plt.title('Time-of-the-Day Sales Analysis')\n",
    "plt.show()"
   ]
  },
  {
   "cell_type": "code",
   "execution_count": 25,
   "id": "826845c1-ba55-4576-a522-5beabe8c8b8f",
   "metadata": {},
   "outputs": [],
   "source": [
    "#Step 6: Report Generation\n",
    "# Sales Data Analysis Report\n",
    "\n",
    "## Data Wrangling\n",
    "#Steps taken to clean and normalize the data.\n",
    "\n",
    "## Data Analysis\n",
    " #Descriptive statistics.\n",
    " #Group-wise and time-based sales analysis.\n",
    "\n",
    "## Data Visualization\n",
    " #Visual representations of key insights.\n"
   ]
  }
 ],
 "metadata": {
  "kernelspec": {
   "display_name": "Python 3 [3.10]",
   "language": "python",
   "name": "python3"
  },
  "language_info": {
   "codemirror_mode": {
    "name": "ipython",
    "version": 3
   },
   "file_extension": ".py",
   "mimetype": "text/x-python",
   "name": "python",
   "nbconvert_exporter": "python",
   "pygments_lexer": "ipython3",
   "version": "3.10.2"
  }
 },
 "nbformat": 4,
 "nbformat_minor": 5
}
